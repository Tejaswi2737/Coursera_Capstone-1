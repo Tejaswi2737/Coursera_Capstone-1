{
 "cells": [
  {
   "cell_type": "markdown",
   "metadata": {},
   "source": [
    "# Capstone Project - The Battle of the Neighborhoods (Week 2)\n",
    "## Applied Data Science Capstone by IBM/Coursera\n",
    "### Sydney - Food and Travel\n",
    "\n",
    "*By Surya Soujanya Kodavalla*"
   ]
  },
  {
   "cell_type": "markdown",
   "metadata": {},
   "source": [
    "## Table of contents\n",
    "* [Introduction](#introduction)\n",
    "* [Data](#data)\n",
    "* [Methodology](#methodology)\n",
    "* [Analysis](#analysis)\n",
    "* [Results and Discussion](#results)\n",
    "* [Future Direction](#future_direction)"
   ]
  },
  {
   "cell_type": "markdown",
   "metadata": {},
   "source": [
    "## Introduction <a name=\"introduction\"></a>"
   ]
  },
  {
   "cell_type": "markdown",
   "metadata": {},
   "source": [
    "The purpose of this project is to identify the trending food ventures in each suburb of Sydney, Australia with accessible public transportation. Sydney has around 600 plus suburbs in the city with an excellent metro system and an amazing variety of cuisines available to gorge on. By calculating the distance from the nearest train stations and clustering restaurants based on this distance, anyone new to the beautiful city of Sydney can enjoy the food there without much of a hassle about transport. \n",
    "\n",
    "The above problem has been addressed by finding the trending food places in each suburb of Sydney which are closest to train stations. Specifically, this report will be targeted to travelers interested in visiting the top food places which are are convenient to travel to and from in Sydney. We are particularly focusing on the train stations in Sydney as their metro network is very reliable with services running from 4am to around midnight on most train lines. \n",
    "\n",
    "To do the analysis as mentioned above, initially a list of all the suburbs, all the train stations and the trending restaurants in Sydney are obtained. From this data, the nearest train station to each restaurant is found based on their locations and the distances calculated. After clustering the restaurants based on the distances previously calculated, we can come to a conclusion about the most accessible restaurants, etc.\n",
    "\n",
    "Data science methodologies and the K-means clustering algorithm have been used to get useful data and generate different clusters of food places all over Sydney based on their distances from the nearest train stations."
   ]
  },
  {
   "cell_type": "markdown",
   "metadata": {},
   "source": [
    "## Data <a name=\"data\"></a>\n",
    "\n",
    "Based on definition of the problem, data needed for analysis is:\n",
    "* list of suburbs in Sydney and their locations\n",
    "* list of train stations in Sydney and their locations\n",
    "* top food venues in different suburbs\n",
    "* distance between food venues and the nearest train station"
   ]
  },
  {
   "cell_type": "markdown",
   "metadata": {},
   "source": [
    "#### List of Suburbs in Sydney and their locations -\n",
    "\n",
    "* Data for list of suburbs in Sydney was scraped from the [Wikipedia page](https://en.wikipedia.org/wiki/List_of_Sydney_suburbs) and it was cleaned by removing extra parts of the code from in between the data and other extra characters through multiple iterations. The scraped and cleaned list of suburbs was then made into a dataframe and stored as a csv file.\n",
    "\n",
    "* While adding the latitudes and longitudes of each of the suburbs to the dataset, using the geopy package, the location 'Sydney, Australia' was added to the address to get the accurate location as there can possibly be many places with the same name in different cities.\n",
    "\n",
    "* The link to the data set is available [here](https://www.kaggle.com/ssk27997/suburbs-in-sydney-australia).\n",
    "\n",
    "* The link to the code used for scraping is available [here](https://github.com/surya-soujanya/Coursera_Capstone/blob/master/Suburbs_Scraping.ipynb).\n",
    "<img src=\"img/sydney_suburbs.png\" alt=\"alt text\" width=\"40%\" height=\"40%\">\n",
    "\n",
    "#### List of Train Stations in Sydney and their locations -\n",
    "\n",
    "* Similar to the dataset for the suburbs, the dataset for the railway stations was scraped using beautifulsoup from the  [Wikipedia page](https://en.wikipedia.org/wiki/List_of_Sydney_Trains_railway_stations). It was cleaned by removing extra parts of the code from in between the data and other extra characters through multiple iterations. The words 'Railway Station' were added to each of the names of the stations to make locating them easier. The scraped and cleaned list of railway stations was then made into a dataframe and stored as a csv file.\n",
    "\n",
    "* While adding the latitudes and longitudes of each of the stations to the dataset, using the geopy package, the location 'Sydney, Australia' was added to the address to get the accurate location as there can possibly be many places with the same name in different cities.\n",
    "\n",
    "* The link to the data set is available [here](https://www.kaggle.com/ssk27997/train-stations-in-sydney-australia).\n",
    "\n",
    "* The link to the code used for scraping is available [here](https://github.com/surya-soujanya/Coursera_Capstone/blob/master/Stations_Scraping.ipynb).\n",
    "<img src=\"img/sydney_stations.png\" alt=\"alt text\" width=\"40%\" height=\"40%\">\n",
    "\n",
    "\n",
    "Here is a visualization of the stations and suburbs in Sydney.\n",
    "<img src=\"img/suburbs_stations_map.png\" alt=\"alt text\" width=\"60%\" height=\"60%\">\n",
    "\n",
    "\n",
    "#### Top food places and their locations - \n",
    "\n",
    "* The trending food places in each suburb are obtained by using the Foursquare API on the suburbs dataset.\n",
    "* The category ID for food places (4d4b7105d754a06374d81259) is used to return only the food places in the specified areas. \n",
    "* The required details of each venue such as latitude and longitude are obtained from the json file generated.\n",
    "<img src=\"img/top_food_places.png\" alt=\"alt text\" width=\"80%\" height=\"80%\">"
   ]
  },
  {
   "cell_type": "markdown",
   "metadata": {},
   "source": [
    "## Methodology <a name=\"methodology\"></a>"
   ]
  },
  {
   "cell_type": "markdown",
   "metadata": {},
   "source": [
    "In this project, the plan is to cluster the food places based on their distances from the nearest railway stations.\n",
    "\n",
    "In the first step, we collected the required data as shown above by data scraping, cleaning and using the geopy package and the Foursquare API.\n",
    "\n",
    "The second step is the calculation and exploration of the nearest railway station to each food place and the distance between them. This data is then combined with the dataset of top food places that was previously obtained. To find the closest railway station to each restaurant, the distance between each restaurant returned by the call to the Foursquare API and train station is calculated using the geopy package. Then the station with the least distance is concluded to be the nearest station to each food place.\n",
    "\n",
    "The third and final step is focusing on clustering these food places based on their distances from the nearest railway stations and exploring the clusters made. A visualization of the clusters obtained will be made by plotting a few points of each cluster on a map along with the railway stations. The clusters obtained can be used to explore the restaurants and suburbs as per the requirement of the traveler."
   ]
  },
  {
   "cell_type": "markdown",
   "metadata": {},
   "source": [
    "## Analysis <a name=\"analysis\"></a>"
   ]
  },
  {
   "cell_type": "markdown",
   "metadata": {},
   "source": [
    "After exploring the details of each cluster obtained by using the describe function, it can be seen as to which cluster covers what range of distances and which restaurant falls in which cluster.\n",
    "\n",
    "Here is a visual representation of the details obtained using the describe function.\n",
    "\n",
    "\n",
    "<img src=\"img/cluster_analysis.png\" alt=\"alt text\" width=\"80%\" height=\"80%\">\n",
    "\n",
    "Below we can see how distances have been divided and which range is covered by which cluster.\n",
    "\n",
    "\n",
    "<img src=\"img/numberline.png\" alt=\"alt text\" width=\"60%\" height=\"60%\">\n",
    "\n",
    "From the above graphs, we can see that cluster 0 has the restaurants in walkable distance to a train station. To go to a restaurant in any of the other clusters, especially in cluster 3, it is better to arrange for another mode of transport.\n",
    "\n",
    "On plotting a few points from each cluster and the train stations on the map of Sydney, this is how it looks:\n",
    "\n",
    "\n",
    "<img src=\"img/clusters_map.png\" alt=\"alt text\" width=\"60%\" height=\"60%\">\n"
   ]
  },
  {
   "cell_type": "markdown",
   "metadata": {},
   "source": [
    "## Results and Discussion <a name=\"results\"></a>"
   ]
  },
  {
   "cell_type": "markdown",
   "metadata": {},
   "source": [
    "On close inspection of the details of the clusters, we see that cluster 0 has the places within walkable distance of train stations with a maximum distance of 1.6 kilometers.\n",
    "\n",
    "Suburbs like Strathfield, Lavender Bay, Darling Point, Ashfield and a few other suburbs have a majority of food places which are nearest to train stations.\n",
    "\n",
    "The Chatswood Railway Station has the most food places within walkable distance.\n",
    "\n",
    "Sushi Bay is a Japanese restaurant which is most closest to a train station from the list of trending restaurants obtained. Hungry Jack's, Brick Pit Espresso, Gelato Messina and The Shop Picnic Point\tare a few of the many other food places located within walkable distance of a train station.\n",
    "\n",
    "Multiple other inferences can be made from the analysis done according to the needs and interests of the traveler.\n",
    "\n",
    "**Please note that it is only for this specific run of the code and the restaurants given for this specific call of the Foursquare API that cluster 0 has the restaurants within walkable distance of the train stations with the measures given above. It is possible that if the code is run again, the call to the Foursquare API may give different results depending on the trending venues at that particular point of time which may change the details of each cluster obtained in cells 80 to 84. It is not necessary that cluster 0 always has the minimum distance restaurants. It is important to understand how the clustering algorithm works on the distances array given as the input - the algorithm divides the different distances into different clusters so that each cluster covers a particular range of distances. On studying the details of each cluster given by the describe function as shown above, it can be understood as to which range is covered by which cluster.**"
   ]
  },
  {
   "cell_type": "markdown",
   "metadata": {},
   "source": [
    "## Future Direction <a name=\"future_direction\"></a>"
   ]
  },
  {
   "cell_type": "markdown",
   "metadata": {},
   "source": [
    "This project can be further extended by creating analysis of food places closest to both train stations and the iconic places to visit in Sydney like the Opera House and its famous beaches.\n",
    "\n",
    "The same analysis can be done on other cities as well."
   ]
  },
  {
   "cell_type": "markdown",
   "metadata": {},
   "source": [
    "# Bon Voyage and Bon Appetit ! "
   ]
  }
 ],
 "metadata": {
  "kernelspec": {
   "display_name": "Python 3",
   "language": "python",
   "name": "python3"
  },
  "language_info": {
   "codemirror_mode": {
    "name": "ipython",
    "version": 3
   },
   "file_extension": ".py",
   "mimetype": "text/x-python",
   "name": "python",
   "nbconvert_exporter": "python",
   "pygments_lexer": "ipython3",
   "version": "3.8.2"
  }
 },
 "nbformat": 4,
 "nbformat_minor": 4
}
