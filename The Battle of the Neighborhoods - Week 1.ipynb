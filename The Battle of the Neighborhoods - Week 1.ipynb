{
 "cells": [
  {
   "cell_type": "markdown",
   "metadata": {},
   "source": [
    "# The Battle of the Neighborhoods - Week 1"
   ]
  },
  {
   "cell_type": "markdown",
   "metadata": {},
   "source": [
    "### 1. Introduction & Business Problem :"
   ]
  },
  {
   "cell_type": "markdown",
   "metadata": {},
   "source": [
    "##### 1.1 Problem Background:"
   ]
  },
  {
   "cell_type": "markdown",
   "metadata": {},
   "source": [
    "For a foodie like me, traveling to a new city is all about taking in the culture of the city and most importantly, trying out the best food places there. And as a solo female traveler, safety is of utmost priority which means knowing the best way to travel to a place in the city and preferably going to places which are relatively closer to or in walkable distance to a public transport station.\n",
    "\n",
    "I decided to do this project on Sydney as I had recently traveled there and fell in love with the city. The aim of this project is to do an analysis on the trending food places in different suburbs of Sydney and cluster them based on their distance from the nearest train stations, considering the fact that Sydney has an excellent metro service."
   ]
  },
  {
   "cell_type": "markdown",
   "metadata": {},
   "source": [
    "##### 1.2 Problem Statement : "
   ]
  },
  {
   "cell_type": "markdown",
   "metadata": {},
   "source": [
    "This project aims to cluster the top food places in each suburb of Sydney based on their distance from the nearest train station."
   ]
  },
  {
   "cell_type": "markdown",
   "metadata": {},
   "source": [
    "##### 1.3 Target Audience:"
   ]
  },
  {
   "cell_type": "markdown",
   "metadata": {},
   "source": [
    "This analysis can be used by food loving travelers and can give a better visualization by being used for tourism."
   ]
  },
  {
   "cell_type": "markdown",
   "metadata": {},
   "source": [
    "### 2. Data :"
   ]
  },
  {
   "cell_type": "markdown",
   "metadata": {},
   "source": [
    "##### 2.1 Data sources"
   ]
  },
  {
   "cell_type": "markdown",
   "metadata": {},
   "source": [
    "The list of suburbs and train stations in Sydney was scraped using beautifulsoup from Wikipedia.\n",
    "\n",
    "Sources:\n",
    "1. https://en.wikipedia.org/wiki/List_of_Sydney_suburbs\n",
    "2. https://en.wikipedia.org/wiki/List_of_Sydney_Trains_railway_stations"
   ]
  },
  {
   "cell_type": "markdown",
   "metadata": {},
   "source": [
    "##### 2.2 Data Cleaning"
   ]
  },
  {
   "cell_type": "markdown",
   "metadata": {},
   "source": [
    "###### Suburbs - \n",
    "\n",
    "It was difficult to scrape data of the suburbs as it was not in a table format in the webpage and the HTML code did not specify classes. After scraping the data, it was cleaned by removing extra parts of the code from in between the data and other extra characters through multiple iterations. The scraped and cleaned list of suburbs was then made into a dataframe.\n",
    "\n",
    "While adding the latitudes and longitudes of each of the suburbs to the dataset, using the geopy package, the location 'Sydney, Australia' was added to the address to get the accurate location as there can possibly be many places with the same name in different cities.\n",
    "![title](img/sydney_suburbs.png)\n",
    "\n",
    "The link to the data set is available [here](https://www.kaggle.com/ssk27997/suburbs-in-sydney-australia).\n",
    "\n",
    "The link to the code used for scraping is available [here](https://github.com/surya-soujanya/Coursera_Capstone/blob/master/Suburbs%20Scraping.ipynb).\n",
    "\n",
    "###### Railway Stations - \n",
    "Similar to the dataset for the suburbs, the dataset for the railway stations was scraped using beautifulsoup from the source mentioned above. It was cleaned by removing extra parts of the code from in between the data and other extra characters through multiple iterations. The words 'Railway Station' were added to each of the names of the stations to make location then easier. The scraped and cleaned list of railway stations was then made into a dataframe.\n",
    "\n",
    "While adding the latitudes and longitudes of each of the stations to the dataset, using the geopy package, the location 'Sydney, Australia' was added to the address to get the accurate location as there can possibly be many places with the same name in different cities.\n",
    "![title](img/sydney_stations.png)\n",
    "\n",
    "The link to the data set is available [here](https://www.kaggle.com/ssk27997/train-stations-in-sydney-australia).\n",
    "\n",
    "The link to the code used for scraping is available [here](https://github.com/surya-soujanya/Coursera_Capstone/blob/master/Stations%20Scraping.ipynb).\n",
    "\n",
    "###### Top food places - \n",
    "The food places in each suburb will be obtained by using the Foursquare API on the suburbs dataset.\n",
    "\n",
    "![title](img/food_places.png)"
   ]
  }
 ],
 "metadata": {
  "kernelspec": {
   "display_name": "Python 3",
   "language": "python",
   "name": "python3"
  },
  "language_info": {
   "codemirror_mode": {
    "name": "ipython",
    "version": 3
   },
   "file_extension": ".py",
   "mimetype": "text/x-python",
   "name": "python",
   "nbconvert_exporter": "python",
   "pygments_lexer": "ipython3",
   "version": "3.8.2"
  }
 },
 "nbformat": 4,
 "nbformat_minor": 4
}
